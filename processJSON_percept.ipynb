{
  "cells": [
    {
      "cell_type": "markdown",
      "metadata": {
        "id": "view-in-github",
        "colab_type": "text"
      },
      "source": [
        "<a href=\"https://colab.research.google.com/github/molaruna/percept_processing/blob/main/processJSON_percept.ipynb\" target=\"_parent\"><img src=\"https://colab.research.google.com/assets/colab-badge.svg\" alt=\"Open In Colab\"/></a>"
      ]
    },
    {
      "cell_type": "markdown",
      "metadata": {
        "id": "SfhK3X4ZGd2z"
      },
      "source": [
        "Mount drive to colab"
      ]
    },
    {
      "cell_type": "code",
      "execution_count": 71,
      "metadata": {
        "colab": {
          "base_uri": "https://localhost:8080/"
        },
        "id": "sR_SJMskGJ1l",
        "outputId": "667787d1-2529-4e6a-da0a-64ca2b1d067b"
      },
      "outputs": [
        {
          "output_type": "stream",
          "name": "stdout",
          "text": [
            "Mounted at /content/gdrive\n"
          ]
        }
      ],
      "source": [
        "from google.colab import drive\n",
        "drive.mount('/content/gdrive', force_remount = True)"
      ]
    },
    {
      "cell_type": "markdown",
      "metadata": {
        "id": "SbcJeE7LG9FM"
      },
      "source": [
        "Initialize environment"
      ]
    },
    {
      "cell_type": "code",
      "execution_count": 225,
      "metadata": {
        "id": "qcHZy1VRG8aB"
      },
      "outputs": [],
      "source": [
        "import io\n",
        "import os\n",
        "import datetime\n",
        "import pandas as pd\n",
        "import numpy as np\n",
        "from pathlib import Path\n",
        "import json\n",
        "import csv\n",
        "import scipy.signal as signal\n",
        "import matplotlib.pyplot as plt\n",
        "import matplotlib.dates as mdates\n",
        "BASE_PATH = '/content/gdrive/My Drive/'"
      ]
    },
    {
      "cell_type": "code",
      "execution_count": null,
      "metadata": {
        "id": "bM7ayDoXHBn6"
      },
      "outputs": [],
      "source": [
        "dir_study = '<study_dir>'\n",
        "#dir_json = '<json_file>'\n",
        "fp = os.path.join(BASE_PATH, dir_ge + dir_json)"
      ]
    },
    {
      "cell_type": "markdown",
      "source": [
        "#functions"
      ],
      "metadata": {
        "id": "IMiZvgYSWDul"
      }
    },
    {
      "cell_type": "code",
      "source": [
        "def str2int(s):\n",
        "  l=list(str(s).split(','))\n",
        "  arr=[]\n",
        "  for val in l:\n",
        "      try:\n",
        "          arr.append(int(val))\n",
        "      except ValueError:\n",
        "          pass\n",
        "  return np.asarray(arr)\n",
        "\n",
        "def get_ms_arr(time_packets, packet_sizes, sr):\n",
        "  step_size = 1000/sr #in ms\n",
        "  \n",
        "  ntimes = int(sum(packet_sizes))\n",
        "  arr = np.empty(ntimes)\n",
        "\n",
        "  stop_i = 0\n",
        "  for i in range(len(packet_sizes)):   \n",
        "    start_i = stop_i\n",
        "    stop_i = start_i + packet_sizes[i]\n",
        "\n",
        "    endpoint = time_packets[i] + step_size*packet_sizes[i] - 0.1\n",
        "    interval = np.arange(time_packets[i], endpoint, step_size).astype(int)\n",
        "    arr[start_i:stop_i] = interval\n",
        "  \n",
        "  return arr\n",
        "\n",
        "def get_dt_arr(arr_ms, dt_init, dt_offset_init):\n",
        "  dt_offset = datetime.datetime.strptime(dt_offset_init, '-%H:%M')\n",
        "  dt_utc = datetime.datetime.strptime(dt_init, '%Y-%m-%dT%H:%M:%S.%fZ')\n",
        "  dt = dt_utc - datetime.timedelta(hours=dt_offset.hour)\n",
        "  arr_dt = [dt + datetime.timedelta(milliseconds=i) for i in arr_ms]\n",
        "  return arr_dt\n",
        "\n",
        "def get_ts_sense(data):\n",
        "  nsides = len(data['BrainSenseTimeDomain'])\n",
        "  for i in range(nsides):\n",
        "    #get laterality of sensor\n",
        "    ch_init = data['BrainSenseTimeDomain'][i]['Channel']\n",
        "    implant_side = get_side(ch_init)\n",
        "\n",
        "  #get array with timestamps in sequences of milliseconds\n",
        "    time_packets = str2int(data['BrainSenseTimeDomain'][i]['TicksInMses'])\n",
        "    packet_sizes = str2int(data['BrainSenseTimeDomain'][i]['GlobalPacketSizes'])\n",
        "    sr = data['BrainSenseTimeDomain'][i]['SampleRateInHz']\n",
        "    arr_ms = get_ms_arr(time_packets, packet_sizes, sr)\n",
        "    \n",
        "    #convert timestamp array into datetime\n",
        "    dt_init = data['BrainSenseTimeDomain'][i]['FirstPacketDateTime']\n",
        "    dt_offset_init = data['ProgrammerUtcOffset']\n",
        "    arr_dt = get_dt_arr(arr_ms, dt_init, dt_offset_init)\n",
        "\n",
        "    #get voltage timeseries data\n",
        "    voltage = data['BrainSenseTimeDomain'][i]['TimeDomainData']\n",
        "    column_name = 'voltage' + '_' + implant_side\n",
        "    if i == 0:\n",
        "      df = pd.DataFrame(data = voltage,\n",
        "                        columns = [column_name],\n",
        "                        index = arr_dt)\n",
        "    if i > 0:\n",
        "      df[column_name] = voltage\n",
        "\n",
        "  return df\n",
        "\n",
        "def get_id(fp):\n",
        "  return os.path.basename(os.path.dirname(os.path.dirname(fp)))\n",
        "\n",
        "def get_side(ch_init):\n",
        "  return str.split(ch_init, sep = '_')[-1].lower()\n",
        "\n",
        "def get_ch(ch_init):\n",
        "  num_dict = {\n",
        "    'ZERO': '0',\n",
        "    'ONE': '1',\n",
        "    'TWO': '2',\n",
        "    'THREE': '3',\n",
        "    'FOUR': '4',\n",
        "    'FIVE': '5',\n",
        "    'SIX': '6',\n",
        "    'SEVEN': '7',\n",
        "    'EIGHT': '8',\n",
        "    'NINE': '9',\n",
        "    'TEN': '10',\n",
        "    'ELEVEN': '11',\n",
        "    'TWELVE': '12'\n",
        "  }\n",
        "\n",
        "  ch_str = str.split(ch_init, sep = '_')[:-1]\n",
        "  ch_int = '-'.join(num_dict[i] for i in reversed(ch_str))\n",
        "  return '+' + ch_int\n",
        "\n",
        "def get_stim_contact(ch_sense_contacts):\n",
        "  stim_contact_dict = {\n",
        "      '+2-0': '1',\n",
        "      '+3-1': '2'\n",
        "  }\n",
        "\n",
        "  stim_contact = stim_contact_dict[ch_sense_contacts]\n",
        "  return stim_contact\n",
        "\n",
        "def get_settings(data, fp):\n",
        "  subj_id = get_id(fp)\n",
        "  df = pd.DataFrame(data = [subj_id], columns = ['subj_id'])\n",
        "\n",
        "  nsides = len(data['BrainSenseTimeDomain'])\n",
        "  for i in range(nsides):\n",
        "    ch_init = data['BrainSenseTimeDomain'][i]['Channel']\n",
        "    implant_side = get_side(ch_init)\n",
        "    df[implant_side + '_sr'] = data['BrainSenseTimeDomain'][i]['SampleRateInHz']\n",
        "\n",
        "    ch_sense_contacts = get_ch(ch_init)\n",
        "    df[implant_side + '_ch'] = ch_sense_contacts\n",
        "    df[implant_side + '_stim_contact'] = get_stim_contact(ch_sense_contacts)\n",
        "  \n",
        "  return df\n",
        "\n",
        "def get_ms_arr_stim(stim_data):\n",
        "  ntimes = len(stim_data)\n",
        "  arr_ms = [stim_data[i]['TicksInMs'] for i in range(ntimes)]\n",
        "\n",
        "  return arr_ms\n",
        "\n",
        "def get_ma_df(stim_data, arr_dt):\n",
        "  ntimes = len(arr_dt)\n",
        "\n",
        "  ma_left = [stim_data[i]['Left']['mA'] for i in range(ntimes)]\n",
        "  ma_right = [stim_data[i]['Right']['mA'] for i in range(ntimes)]\n",
        "\n",
        "  data = np.column_stack((ma_left, ma_right))\n",
        "\n",
        "  df = pd.DataFrame(data = data, \n",
        "                    columns = ['stim_amp_left', 'stim_amp_right'], \n",
        "                    index = arr_dt)\n",
        "\n",
        "  return df\n",
        "\n",
        "def get_ts_stim(data):\n",
        "  stim_data = data['BrainSenseLfp'][0]['LfpData']\n",
        "  sr = data['BrainSenseLfp'][0]['SampleRateInHz']\n",
        "  arr_ms = get_ms_arr_stim(stim_data)\n",
        "\n",
        "  #convert timestamp array into datetime\n",
        "  dt_init = data['BrainSenseLfp'][0]['FirstPacketDateTime']\n",
        "  dt_offset_init = data['ProgrammerUtcOffset']\n",
        "  arr_dt = get_dt_arr(arr_ms, dt_init, dt_offset_init)\n",
        "\n",
        "  #get stimulation amplitude data\n",
        "  df_stim = get_ma_df(stim_data, arr_dt)\n",
        "\n",
        "  return df_stim\n",
        "\n",
        "def get_data(jsonfile, ts_sense=True, ts_stim=True, settings=True):\n",
        "  df_ts_sense = []\n",
        "  df_ts_stim = []\n",
        "  df_settings = []\n",
        "\n",
        "  with open(jsonfile)as f:\n",
        "    data = json.load(f)\n",
        "\n",
        "  if ts_sense == True:\n",
        "    df_ts_sense = get_ts_sense(data)\n",
        "\n",
        "  if ts_stim == True:\n",
        "    df_ts_stim = get_ts_stim(data)\n",
        "\n",
        "  if settings == True:\n",
        "    df_settings = get_settings(data, jsonfile)\n",
        "\n",
        "  return [df_ts_sense, df_ts_stim, df_settings]\n",
        "\n",
        "def get_sr_arr(df_settings):\n",
        "  if 'left_sr' in df_settings:\n",
        "    fs = np.array([df_settings.left_sr])\n",
        "    if 'right_sr' in df_settings:\n",
        "      fs = np.append(fs, [[df_settings.right_sr]])\n",
        "      try:\n",
        "        df_settings.right_sr != df_settings.left_sr\n",
        "      except ValueError:\n",
        "        print('sampling rates differ across hemispheres')\n",
        "  else:\n",
        "    fs = np.array([df_settings.right_sr])\n",
        "  return fs\n",
        "\n",
        "def time2freq(df_ts_sense, df_settings):\n",
        "  nchannel = df_ts_sense.shape[1]\n",
        "  fs_arr = get_sr_arr(df_settings)\n",
        "\n",
        "  for i in range(nchannel):\n",
        "    [f, Pxx] = signal.welch(df_ts_sense.iloc[:, i], fs = fs_arr[i])\n",
        "    Pxx_log = np.log10(Pxx)\n",
        "    colname = df_ts_sense.columns[i].replace('voltage', 'psd')\n",
        "    if i == 0:\n",
        "      df_psd = pd.DataFrame(data = Pxx_log, columns = [colname], \n",
        "                            index = np.round(f).astype(int))\n",
        "    else:\n",
        "      df_psd[colname] = Pxx_log\n",
        "  return df_psd\n",
        "\n",
        "def plot_ts_sense(df_ts_sense, df_settings):\n",
        "  plt.gca().xaxis.set_major_formatter(mdates.DateFormatter('%H:%M:%S'))\n",
        "  if 'voltage_left' in df_ts_sense:\n",
        "    plt.plot(df_ts_sense.voltage_left, color = 'blue', alpha = 0.8, \n",
        "             label = 'left_ch' + df_settings.left_ch[0])\n",
        "  if 'voltage_right' in df_ts_sense:\n",
        "    plt.plot(df_ts_sense.voltage_right, color = 'orange', alpha = 0.8, \n",
        "            label = 'right_ch' + df_settings.right_ch[0])\n",
        "\n",
        "  plt.xlabel('time (HH:MM:SS)')\n",
        "  plt.xticks(rotation = 45)\n",
        "  plt.ylabel('voltage (uV)')\n",
        "  plt.title('Voltage timeseries: ' + str(df_settings.subj_id[0]))\n",
        "  plt.legend()\n",
        "\n",
        "def plot_ts_stim(df_ts_stim, df_settings):\n",
        "  plt.gca().xaxis.set_major_formatter(mdates.DateFormatter('%H:%M:%S'))\n",
        "  plt.plot(df_ts_stim.stim_amp_left, color = 'blue', \n",
        "           label = 'left_c' + df_settings.left_stim_contact[0])\n",
        "  plt.plot(df_ts_stim.stim_amp_right, color = 'orange', \n",
        "           label = 'right_c' + df_settings.right_stim_contact[0])\n",
        "  \n",
        "  plt.xlabel('time (HH:MM:SS)')\n",
        "  plt.xticks(rotation = 45)\n",
        "  plt.ylabel('amplitude (mA)')\n",
        "  plt.legend()\n",
        "  plt.title('Stimulation amplitudes: ' + str(df_settings.subj_id[0]))\n",
        "\n",
        "def plot_psd(df_psd, df_settings):\n",
        "  if 'psd_left' in df_psd:\n",
        "    plt.plot(df_psd.psd_left, color = 'blue', \n",
        "             label = 'left_ch' + df_settings.left_ch[0])\n",
        "  if 'psd_right' in df_psd:\n",
        "    plt.plot(df_psd.psd_right, color = 'orange',\n",
        "             label = 'right_ch' + df_settings.right_ch[0])\n",
        "  \n",
        "  plt.xlabel('frequency (Hz)')\n",
        "  plt.ylabel('log(power)')\n",
        "  plt.legend()\n",
        "  plt.title('Power spectra: ' + str(df_settings.subj_id[0]))\n",
        "  pass\n"
      ],
      "metadata": {
        "id": "4kCzr3zynUwc"
      },
      "execution_count": 235,
      "outputs": []
    },
    {
      "cell_type": "markdown",
      "source": [
        "#Process data"
      ],
      "metadata": {
        "id": "76UG-rt4K4dO"
      }
    },
    {
      "cell_type": "code",
      "source": [
        "[df_ts_sense, df_ts_stim, df_settings] = get_data(fp)"
      ],
      "metadata": {
        "id": "iGAZU6Hr9elM"
      },
      "execution_count": 223,
      "outputs": []
    },
    {
      "cell_type": "code",
      "source": [
        "df_ts_sense"
      ],
      "metadata": {
        "colab": {
          "base_uri": "https://localhost:8080/",
          "height": 423
        },
        "id": "rs9J7m8VbOhF",
        "outputId": "007aec3b-c10d-4125-97f9-faf7b661aceb"
      },
      "execution_count": 232,
      "outputs": [
        {
          "output_type": "execute_result",
          "data": {
            "text/html": [
              "\n",
              "  <div id=\"df-7344d000-f734-46f2-a6fe-aff8265c1991\">\n",
              "    <div class=\"colab-df-container\">\n",
              "      <div>\n",
              "<style scoped>\n",
              "    .dataframe tbody tr th:only-of-type {\n",
              "        vertical-align: middle;\n",
              "    }\n",
              "\n",
              "    .dataframe tbody tr th {\n",
              "        vertical-align: top;\n",
              "    }\n",
              "\n",
              "    .dataframe thead th {\n",
              "        text-align: right;\n",
              "    }\n",
              "</style>\n",
              "<table border=\"1\" class=\"dataframe\">\n",
              "  <thead>\n",
              "    <tr style=\"text-align: right;\">\n",
              "      <th></th>\n",
              "      <th>voltage_left</th>\n",
              "      <th>voltage_right</th>\n",
              "    </tr>\n",
              "  </thead>\n",
              "  <tbody>\n",
              "    <tr>\n",
              "      <th>2022-02-18 08:45:08.400</th>\n",
              "      <td>2.004050</td>\n",
              "      <td>-11.801625</td>\n",
              "    </tr>\n",
              "    <tr>\n",
              "      <th>2022-02-18 08:45:08.404</th>\n",
              "      <td>0.445344</td>\n",
              "      <td>-12.692314</td>\n",
              "    </tr>\n",
              "    <tr>\n",
              "      <th>2022-02-18 08:45:08.408</th>\n",
              "      <td>1.892713</td>\n",
              "      <td>-10.354256</td>\n",
              "    </tr>\n",
              "    <tr>\n",
              "      <th>2022-02-18 08:45:08.412</th>\n",
              "      <td>1.892713</td>\n",
              "      <td>-8.906887</td>\n",
              "    </tr>\n",
              "    <tr>\n",
              "      <th>2022-02-18 08:45:08.416</th>\n",
              "      <td>0.222672</td>\n",
              "      <td>-7.125509</td>\n",
              "    </tr>\n",
              "    <tr>\n",
              "      <th>...</th>\n",
              "      <td>...</td>\n",
              "      <td>...</td>\n",
              "    </tr>\n",
              "    <tr>\n",
              "      <th>2022-02-18 08:51:27.878</th>\n",
              "      <td>-1.670041</td>\n",
              "      <td>7.236846</td>\n",
              "    </tr>\n",
              "    <tr>\n",
              "      <th>2022-02-18 08:51:27.882</th>\n",
              "      <td>0.779353</td>\n",
              "      <td>10.910936</td>\n",
              "    </tr>\n",
              "    <tr>\n",
              "      <th>2022-02-18 08:51:27.886</th>\n",
              "      <td>-1.336033</td>\n",
              "      <td>7.682190</td>\n",
              "    </tr>\n",
              "    <tr>\n",
              "      <th>2022-02-18 08:51:27.890</th>\n",
              "      <td>-3.451419</td>\n",
              "      <td>2.672066</td>\n",
              "    </tr>\n",
              "    <tr>\n",
              "      <th>2022-02-18 08:51:27.894</th>\n",
              "      <td>-2.783402</td>\n",
              "      <td>-0.890689</td>\n",
              "    </tr>\n",
              "  </tbody>\n",
              "</table>\n",
              "<p>94937 rows × 2 columns</p>\n",
              "</div>\n",
              "      <button class=\"colab-df-convert\" onclick=\"convertToInteractive('df-7344d000-f734-46f2-a6fe-aff8265c1991')\"\n",
              "              title=\"Convert this dataframe to an interactive table.\"\n",
              "              style=\"display:none;\">\n",
              "        \n",
              "  <svg xmlns=\"http://www.w3.org/2000/svg\" height=\"24px\"viewBox=\"0 0 24 24\"\n",
              "       width=\"24px\">\n",
              "    <path d=\"M0 0h24v24H0V0z\" fill=\"none\"/>\n",
              "    <path d=\"M18.56 5.44l.94 2.06.94-2.06 2.06-.94-2.06-.94-.94-2.06-.94 2.06-2.06.94zm-11 1L8.5 8.5l.94-2.06 2.06-.94-2.06-.94L8.5 2.5l-.94 2.06-2.06.94zm10 10l.94 2.06.94-2.06 2.06-.94-2.06-.94-.94-2.06-.94 2.06-2.06.94z\"/><path d=\"M17.41 7.96l-1.37-1.37c-.4-.4-.92-.59-1.43-.59-.52 0-1.04.2-1.43.59L10.3 9.45l-7.72 7.72c-.78.78-.78 2.05 0 2.83L4 21.41c.39.39.9.59 1.41.59.51 0 1.02-.2 1.41-.59l7.78-7.78 2.81-2.81c.8-.78.8-2.07 0-2.86zM5.41 20L4 18.59l7.72-7.72 1.47 1.35L5.41 20z\"/>\n",
              "  </svg>\n",
              "      </button>\n",
              "      \n",
              "  <style>\n",
              "    .colab-df-container {\n",
              "      display:flex;\n",
              "      flex-wrap:wrap;\n",
              "      gap: 12px;\n",
              "    }\n",
              "\n",
              "    .colab-df-convert {\n",
              "      background-color: #E8F0FE;\n",
              "      border: none;\n",
              "      border-radius: 50%;\n",
              "      cursor: pointer;\n",
              "      display: none;\n",
              "      fill: #1967D2;\n",
              "      height: 32px;\n",
              "      padding: 0 0 0 0;\n",
              "      width: 32px;\n",
              "    }\n",
              "\n",
              "    .colab-df-convert:hover {\n",
              "      background-color: #E2EBFA;\n",
              "      box-shadow: 0px 1px 2px rgba(60, 64, 67, 0.3), 0px 1px 3px 1px rgba(60, 64, 67, 0.15);\n",
              "      fill: #174EA6;\n",
              "    }\n",
              "\n",
              "    [theme=dark] .colab-df-convert {\n",
              "      background-color: #3B4455;\n",
              "      fill: #D2E3FC;\n",
              "    }\n",
              "\n",
              "    [theme=dark] .colab-df-convert:hover {\n",
              "      background-color: #434B5C;\n",
              "      box-shadow: 0px 1px 3px 1px rgba(0, 0, 0, 0.15);\n",
              "      filter: drop-shadow(0px 1px 2px rgba(0, 0, 0, 0.3));\n",
              "      fill: #FFFFFF;\n",
              "    }\n",
              "  </style>\n",
              "\n",
              "      <script>\n",
              "        const buttonEl =\n",
              "          document.querySelector('#df-7344d000-f734-46f2-a6fe-aff8265c1991 button.colab-df-convert');\n",
              "        buttonEl.style.display =\n",
              "          google.colab.kernel.accessAllowed ? 'block' : 'none';\n",
              "\n",
              "        async function convertToInteractive(key) {\n",
              "          const element = document.querySelector('#df-7344d000-f734-46f2-a6fe-aff8265c1991');\n",
              "          const dataTable =\n",
              "            await google.colab.kernel.invokeFunction('convertToInteractive',\n",
              "                                                     [key], {});\n",
              "          if (!dataTable) return;\n",
              "\n",
              "          const docLinkHtml = 'Like what you see? Visit the ' +\n",
              "            '<a target=\"_blank\" href=https://colab.research.google.com/notebooks/data_table.ipynb>data table notebook</a>'\n",
              "            + ' to learn more about interactive tables.';\n",
              "          element.innerHTML = '';\n",
              "          dataTable['output_type'] = 'display_data';\n",
              "          await google.colab.output.renderOutput(dataTable, element);\n",
              "          const docLink = document.createElement('div');\n",
              "          docLink.innerHTML = docLinkHtml;\n",
              "          element.appendChild(docLink);\n",
              "        }\n",
              "      </script>\n",
              "    </div>\n",
              "  </div>\n",
              "  "
            ],
            "text/plain": [
              "                         voltage_left  voltage_right\n",
              "2022-02-18 08:45:08.400      2.004050     -11.801625\n",
              "2022-02-18 08:45:08.404      0.445344     -12.692314\n",
              "2022-02-18 08:45:08.408      1.892713     -10.354256\n",
              "2022-02-18 08:45:08.412      1.892713      -8.906887\n",
              "2022-02-18 08:45:08.416      0.222672      -7.125509\n",
              "...                               ...            ...\n",
              "2022-02-18 08:51:27.878     -1.670041       7.236846\n",
              "2022-02-18 08:51:27.882      0.779353      10.910936\n",
              "2022-02-18 08:51:27.886     -1.336033       7.682190\n",
              "2022-02-18 08:51:27.890     -3.451419       2.672066\n",
              "2022-02-18 08:51:27.894     -2.783402      -0.890689\n",
              "\n",
              "[94937 rows x 2 columns]"
            ]
          },
          "metadata": {},
          "execution_count": 232
        }
      ]
    },
    {
      "cell_type": "code",
      "source": [
        "df_ts_stim"
      ],
      "metadata": {
        "id": "L9qn_PDd2YQY"
      },
      "execution_count": null,
      "outputs": []
    },
    {
      "cell_type": "code",
      "source": [
        "df_settings"
      ],
      "metadata": {
        "colab": {
          "base_uri": "https://localhost:8080/",
          "height": 80
        },
        "id": "1MlaD8pzs9lN",
        "outputId": "c77506f1-c154-4499-d464-dc18c3482e9c"
      },
      "execution_count": 183,
      "outputs": [
        {
          "output_type": "execute_result",
          "data": {
            "text/html": [
              "\n",
              "  <div id=\"df-0100c994-e188-4c42-bad3-b81e2602e0cb\">\n",
              "    <div class=\"colab-df-container\">\n",
              "      <div>\n",
              "<style scoped>\n",
              "    .dataframe tbody tr th:only-of-type {\n",
              "        vertical-align: middle;\n",
              "    }\n",
              "\n",
              "    .dataframe tbody tr th {\n",
              "        vertical-align: top;\n",
              "    }\n",
              "\n",
              "    .dataframe thead th {\n",
              "        text-align: right;\n",
              "    }\n",
              "</style>\n",
              "<table border=\"1\" class=\"dataframe\">\n",
              "  <thead>\n",
              "    <tr style=\"text-align: right;\">\n",
              "      <th></th>\n",
              "      <th>subj_id</th>\n",
              "      <th>left_sr</th>\n",
              "      <th>left_ch</th>\n",
              "      <th>left_stim_contact</th>\n",
              "      <th>right_sr</th>\n",
              "      <th>right_ch</th>\n",
              "      <th>right_stim_contact</th>\n",
              "    </tr>\n",
              "  </thead>\n",
              "  <tbody>\n",
              "    <tr>\n",
              "      <th>0</th>\n",
              "      <td>P01_pilot</td>\n",
              "      <td>250</td>\n",
              "      <td>+2-0</td>\n",
              "      <td>1</td>\n",
              "      <td>250</td>\n",
              "      <td>+3-1</td>\n",
              "      <td>2</td>\n",
              "    </tr>\n",
              "  </tbody>\n",
              "</table>\n",
              "</div>\n",
              "      <button class=\"colab-df-convert\" onclick=\"convertToInteractive('df-0100c994-e188-4c42-bad3-b81e2602e0cb')\"\n",
              "              title=\"Convert this dataframe to an interactive table.\"\n",
              "              style=\"display:none;\">\n",
              "        \n",
              "  <svg xmlns=\"http://www.w3.org/2000/svg\" height=\"24px\"viewBox=\"0 0 24 24\"\n",
              "       width=\"24px\">\n",
              "    <path d=\"M0 0h24v24H0V0z\" fill=\"none\"/>\n",
              "    <path d=\"M18.56 5.44l.94 2.06.94-2.06 2.06-.94-2.06-.94-.94-2.06-.94 2.06-2.06.94zm-11 1L8.5 8.5l.94-2.06 2.06-.94-2.06-.94L8.5 2.5l-.94 2.06-2.06.94zm10 10l.94 2.06.94-2.06 2.06-.94-2.06-.94-.94-2.06-.94 2.06-2.06.94z\"/><path d=\"M17.41 7.96l-1.37-1.37c-.4-.4-.92-.59-1.43-.59-.52 0-1.04.2-1.43.59L10.3 9.45l-7.72 7.72c-.78.78-.78 2.05 0 2.83L4 21.41c.39.39.9.59 1.41.59.51 0 1.02-.2 1.41-.59l7.78-7.78 2.81-2.81c.8-.78.8-2.07 0-2.86zM5.41 20L4 18.59l7.72-7.72 1.47 1.35L5.41 20z\"/>\n",
              "  </svg>\n",
              "      </button>\n",
              "      \n",
              "  <style>\n",
              "    .colab-df-container {\n",
              "      display:flex;\n",
              "      flex-wrap:wrap;\n",
              "      gap: 12px;\n",
              "    }\n",
              "\n",
              "    .colab-df-convert {\n",
              "      background-color: #E8F0FE;\n",
              "      border: none;\n",
              "      border-radius: 50%;\n",
              "      cursor: pointer;\n",
              "      display: none;\n",
              "      fill: #1967D2;\n",
              "      height: 32px;\n",
              "      padding: 0 0 0 0;\n",
              "      width: 32px;\n",
              "    }\n",
              "\n",
              "    .colab-df-convert:hover {\n",
              "      background-color: #E2EBFA;\n",
              "      box-shadow: 0px 1px 2px rgba(60, 64, 67, 0.3), 0px 1px 3px 1px rgba(60, 64, 67, 0.15);\n",
              "      fill: #174EA6;\n",
              "    }\n",
              "\n",
              "    [theme=dark] .colab-df-convert {\n",
              "      background-color: #3B4455;\n",
              "      fill: #D2E3FC;\n",
              "    }\n",
              "\n",
              "    [theme=dark] .colab-df-convert:hover {\n",
              "      background-color: #434B5C;\n",
              "      box-shadow: 0px 1px 3px 1px rgba(0, 0, 0, 0.15);\n",
              "      filter: drop-shadow(0px 1px 2px rgba(0, 0, 0, 0.3));\n",
              "      fill: #FFFFFF;\n",
              "    }\n",
              "  </style>\n",
              "\n",
              "      <script>\n",
              "        const buttonEl =\n",
              "          document.querySelector('#df-0100c994-e188-4c42-bad3-b81e2602e0cb button.colab-df-convert');\n",
              "        buttonEl.style.display =\n",
              "          google.colab.kernel.accessAllowed ? 'block' : 'none';\n",
              "\n",
              "        async function convertToInteractive(key) {\n",
              "          const element = document.querySelector('#df-0100c994-e188-4c42-bad3-b81e2602e0cb');\n",
              "          const dataTable =\n",
              "            await google.colab.kernel.invokeFunction('convertToInteractive',\n",
              "                                                     [key], {});\n",
              "          if (!dataTable) return;\n",
              "\n",
              "          const docLinkHtml = 'Like what you see? Visit the ' +\n",
              "            '<a target=\"_blank\" href=https://colab.research.google.com/notebooks/data_table.ipynb>data table notebook</a>'\n",
              "            + ' to learn more about interactive tables.';\n",
              "          element.innerHTML = '';\n",
              "          dataTable['output_type'] = 'display_data';\n",
              "          await google.colab.output.renderOutput(dataTable, element);\n",
              "          const docLink = document.createElement('div');\n",
              "          docLink.innerHTML = docLinkHtml;\n",
              "          element.appendChild(docLink);\n",
              "        }\n",
              "      </script>\n",
              "    </div>\n",
              "  </div>\n",
              "  "
            ],
            "text/plain": [
              "     subj_id  left_sr left_ch  ... right_sr  right_ch right_stim_contact\n",
              "0  P01_pilot      250    +2-0  ...      250      +3-1                  2\n",
              "\n",
              "[1 rows x 7 columns]"
            ]
          },
          "metadata": {},
          "execution_count": 183
        }
      ]
    },
    {
      "cell_type": "code",
      "source": [
        "df_psd = time2freq(df_ts_sense, df_settings)\n",
        "print(df_psd)"
      ],
      "metadata": {
        "colab": {
          "base_uri": "https://localhost:8080/"
        },
        "id": "1ypAjGXL3Ko-",
        "outputId": "dd05d183-5211-4eda-b664-0ce818541a2c"
      },
      "execution_count": 204,
      "outputs": [
        {
          "output_type": "stream",
          "name": "stdout",
          "text": [
            "     psd_left  psd_right\n",
            "0    0.081579  -0.400187\n",
            "1    0.822866   0.380678\n",
            "2    0.946190   0.517829\n",
            "3    0.824026   0.500864\n",
            "4    0.771108   0.390327\n",
            "..        ...        ...\n",
            "121 -3.520239  -3.572121\n",
            "122 -3.467525  -3.590099\n",
            "123 -3.370259  -3.615298\n",
            "124 -3.588281  -3.673108\n",
            "125 -3.968149  -3.972706\n",
            "\n",
            "[129 rows x 2 columns]\n"
          ]
        }
      ]
    },
    {
      "cell_type": "markdown",
      "source": [
        "#Plot results"
      ],
      "metadata": {
        "id": "Iir7_GPu3MYK"
      }
    },
    {
      "cell_type": "code",
      "source": [
        "plot_ts_sense(df_ts_sense, df_settings)"
      ],
      "metadata": {
        "colab": {
          "base_uri": "https://localhost:8080/",
          "height": 324
        },
        "id": "dTYyvRtz2ag3",
        "outputId": "399586b6-7b9d-4538-83ec-4eb9a8d28f32"
      },
      "execution_count": 236,
      "outputs": [
        {
          "output_type": "display_data",
          "data": {
            "image/png": "[encoded data removed]",
            "text/plain": [
              "<Figure size 432x288 with 1 Axes>"
            ]
          },
          "metadata": {
            "needs_background": "light"
          }
        }
      ]
    },
    {
      "cell_type": "code",
      "source": [
        "plot_ts_stim(df_ts_stim, df_settings)"
      ],
      "metadata": {
        "colab": {
          "base_uri": "https://localhost:8080/",
          "height": 324
        },
        "id": "ahcV80XFCGOF",
        "outputId": "ceaf6199-0b6b-4f27-f609-2ec723b40fb5"
      },
      "execution_count": 229,
      "outputs": [
        {
          "output_type": "display_data",
          "data": {
            "image/png": "[encoded data removed]",
            "text/plain": [
              "<Figure size 432x288 with 1 Axes>"
            ]
          },
          "metadata": {
            "needs_background": "light"
          }
        }
      ]
    },
    {
      "cell_type": "code",
      "source": [
        "plot_psd(df_psd, df_settings)"
      ],
      "metadata": {
        "colab": {
          "base_uri": "https://localhost:8080/",
          "height": 295
        },
        "id": "mdLYvTgPxsL4",
        "outputId": "c7c7e2c2-ad79-4e8f-dd01-d3e462e65fef"
      },
      "execution_count": 205,
      "outputs": [
        {
          "output_type": "display_data",
          "data": {
            "image/png": "[encoded data removed]",
            "text/plain": [
              "<Figure size 432x288 with 1 Axes>"
            ]
          },
          "metadata": {
            "needs_background": "light"
          }
        }
      ]
    }
  ],
  "metadata": {
    "colab": {
      "collapsed_sections": [],
      "name": "processJSON_percept.ipynb",
      "provenance": [],
      "authorship_tag": "ABX9TyNjmavb6+ZCO78f+I+by2yT",
      "include_colab_link": true
    },
    "kernelspec": {
      "display_name": "Python 3",
      "name": "python3"
    },
    "language_info": {
      "name": "python"
    }
  },
  "nbformat": 4,
  "nbformat_minor": 0
}
